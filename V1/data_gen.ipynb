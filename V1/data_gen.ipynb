{
 "metadata": {
  "kernelspec": {
   "display_name": "Streamlit Notebook",
   "name": "streamlit"
  }
 },
 "nbformat_minor": 5,
 "nbformat": 4,
 "cells": [
  {
   "cell_type": "code",
   "id": "3775908f-ca36-4846-8f38-5adca39217f2",
   "metadata": {
    "language": "python",
    "name": "cell1"
   },
   "source": "# Import python packages\nimport streamlit as st\nimport pandas as pd\nfrom faker import Faker\nfrom datetime import timedelta, date\nimport random\n\nfake = Faker()\n\n# We can also use Snowpark for our analyses!\nfrom snowflake.snowpark.context import get_active_session\nsession = get_active_session()\n\nNUM_CUSTOMERS = 100\nNUM_ACCOUNTS = 120\nNUM_TRANSACTIONS = 10000\nNUM_LOANS = 10\nNUM_CREDIT_CARDS = 50\nNUM_INVESTMENTS = 15\nNUM_FRAUDS = 1\n\n# session.use_database(\"FINSIGHTS\")",
   "execution_count": null,
   "outputs": []
  },
  {
   "cell_type": "code",
   "id": "8d50cbf4-0c8d-4950-86cb-114990437ac9",
   "metadata": {
    "language": "python",
    "name": "cell2",
    "collapsed": false
   },
   "source": "# Generate Customer Data\ndef generate_customers(num_customers):\n    customers = []\n    for customer_id in range(1, num_customers + 1):\n        first_name = fake.first_name()\n        last_name = fake.last_name()\n        email = fake.email()\n        phone_number = fake.phone_number()[:20]\n        address = fake.street_address()[:100]\n        city = fake.city()[:50]\n        state = fake.state()[:50]\n        zip_code = fake.zipcode()[:10]\n        date_of_birth = fake.date_of_birth(minimum_age=18, maximum_age=90).strftime('%Y-%m-%d')\n        account_creation_date = fake.date_between(start_date='-5y', end_date='today').strftime('%Y-%m-%d')\n        \n        customers.append({\n            \"FIRST_NAME\": first_name,\n            \"LAST_NAME\": last_name,\n            \"EMAIL\": email,\n            \"PHONE_NUMBER\": phone_number,\n            \"ADDRESS\": address,\n            \"CITY\": city,\n            \"STATE\": state,\n            \"ZIP_CODE\": zip_code,\n            \"DATE_OF_BIRTH\": date_of_birth,\n            \"ACCOUNT_CREATION_DATE\": account_creation_date\n        })\n    return pd.DataFrame(customers)\n\ncustomers_df = generate_customers(NUM_CUSTOMERS)\n\nsession.use_schema(\"COREBANKING\")\nsession.write_pandas(customers_df, \"CUSTOMERS\", auto_create_table=True)\n\nprint()",
   "execution_count": null,
   "outputs": []
  },
  {
   "cell_type": "code",
   "id": "da653747-f3b2-44e7-9f17-3a125f43e618",
   "metadata": {
    "language": "python",
    "name": "cell3",
    "collapsed": false
   },
   "outputs": [],
   "source": "TOTCUSTSQL = f''' SELECT COUNT(DISTINCT CUSTOMER_ID) T FROM COREBANKING.CUSTOMERS; '''\n\ntotal_customers = session.sql(TOTCUSTSQL)\ntotal_customers = total_customers.toPandas()['T'][0]\n\n\n# Generate Accounts\ndef generate_accounts(num_accounts):\n    accounts = []\n    for account_id in range(1, num_accounts + 1):\n        customer_id =  random.randint(1, total_customers)\n        account_type = random.choice(['Savings', 'Checking'])\n        balance = round(random.uniform(1000, 50000), 2)\n        interest_rate = round(random.uniform(0.5, 5.0), 2)\n        account_open_date = fake.date_between(start_date='-5y', end_date='today').strftime('%Y-%m-%d')\n        account_status = random.choice(['Active', 'Inactive', 'Closed'])\n        accounts.append({\n            \"CUSTOMER_ID\": customer_id,\n            \"ACCOUNT_TYPE\": account_type,\n            \"BALANCE\": balance,\n            \"INTEREST_RATE\": interest_rate,\n            \"ACCOUNT_OPEN_DATE\": account_open_date,\n            \"ACCOUNT_STATUS\": account_status\n        })\n    return pd.DataFrame(accounts)\n\naccounts_df = generate_accounts(NUM_ACCOUNTS)\n\nsession.use_schema(\"COREBANKING\")\nsession.write_pandas(accounts_df, \"ACCOUNTS\", auto_create_table=True)\n\nprint()\n",
   "execution_count": null
  },
  {
   "cell_type": "code",
   "id": "4eb8d38e-0b30-4fef-b29a-4963e90d56d6",
   "metadata": {
    "language": "python",
    "name": "cell4",
    "collapsed": false
   },
   "outputs": [],
   "source": "total_accounts = session.sql(f''' select count (distinct account_id) T from COREBANKING.ACCOUNTS; ''')\ntotal_accounts = total_accounts.toPandas()['T'][0]\n\n\n\n# Generate Transactions\ndef generate_transactions(num_transactions):\n    transactions = []\n    for transaction_id in range(1, num_transactions + 1):\n        account_id = random.randint(1, total_customers)\n        transaction_type = random.choice(['Deposit', 'Withdrawal', 'Transfer', 'Payment'])\n        transaction_amount = round(random.uniform(10, 5000), 2)\n        transaction_date = fake.date_between(start_date='-1y', end_date='today').strftime('%Y-%m-%d')\n        merchant = fake.company()[:100]  # Limit merchant name to 100 characters\n        category = random.choice(['Groceries', 'Utilities', 'Entertainment', 'Health', 'Travel'])\n\n        transactions.append({\n            \"ACCOUNT_ID\": account_id,\n            \"TRANSACTION_TYPE\": transaction_type,\n            \"TRANSACTION_AMOUNT\": transaction_amount,\n            \"TRANSACTION_DATE\": transaction_date,\n            \"MERCHANT\": merchant,\n            \"CATEGORY\": category\n        })\n    return pd.DataFrame(transactions)\n    \ntransactions_df = generate_transactions(NUM_TRANSACTIONS)\n\nsession.use_schema(\"COREBANKING\")\nsession.write_pandas(transactions_df, \"TRANSACTIONS\", auto_create_table=True)\n\nprint()",
   "execution_count": null
  },
  {
   "cell_type": "code",
   "id": "3e0327d9-a27e-421b-bf15-c8324d4ec42b",
   "metadata": {
    "language": "python",
    "name": "cell5",
    "collapsed": false
   },
   "outputs": [],
   "source": "# Generate Loans\ndef generate_loans(num_loans):\n    loans = []\n    for loan_id in range(1, num_loans + 1):\n        customer_id = random.randint(1, total_customers)\n        loan_type = random.choice(['Personal', 'Auto', 'Mortgage'])\n        loan_amount = round(random.uniform(5000, 500000), 2)\n        loan_balance = round(loan_amount * random.uniform(0.1, 1.0), 2)\n        interest_rate = round(random.uniform(2.0, 7.0), 2)\n        loan_issue_date = fake.date_between(start_date='-10y', end_date='today').strftime('%Y-%m-%d')\n        loan_due_date = (pd.to_datetime(loan_issue_date) + pd.DateOffset(years=random.randint(1, 30))).strftime('%Y-%m-%d')\n        \n        loans.append({\n            \"CUSTOMER_ID\": customer_id,\n            \"LOAN_TYPE\": loan_type,\n            \"LOAN_AMOUNT\": loan_amount,\n            \"LOAN_BALANCE\": loan_balance,\n            \"INTEREST_RATE\": interest_rate,\n            \"LOAN_ISSUE_DATE\": loan_issue_date,\n            \"LOAN_DUE_DATE\": loan_due_date\n        })\n    return pd.DataFrame(loans)\n\nloans_df = generate_loans(NUM_LOANS)\nsession.use_schema(\"RISKANALYSIS\")\nsession.write_pandas(loans_df, \"LOANS\", auto_create_table=True)\n\nprint()",
   "execution_count": null
  },
  {
   "cell_type": "code",
   "id": "a87f13b5-8d23-41f0-94e7-9001afc48196",
   "metadata": {
    "language": "python",
    "name": "cell6",
    "collapsed": false
   },
   "outputs": [],
   "source": "# Generate Credit Cards\ndef generate_credit_cards(num_credit_cards):\n    credit_cards = []\n    for credit_card_id in range(1, num_credit_cards + 1):\n        customer_id = random.randint(1, total_customers)\n        card_number = fake.credit_card_number(card_type=None)[:20]\n        card_type = random.choice(['Visa', 'MasterCard', 'Amex'])\n        credit_limit = round(random.uniform(1000, 20000), 2)\n        balance = round(random.uniform(0, credit_limit), 2)\n        expiration_date = fake.date_between(start_date='today', end_date='+5y').strftime('%Y-%m-%d')\n        card_status = random.choice(['Active', 'Inactive', 'Closed'])\n        credit_cards.append({\n            \"CUSTOMER_ID\": customer_id,\n            \"CARD_NUMBER\": card_number,\n            \"CARD_TYPE\": card_type,\n            \"CREDIT_LIMIT\": credit_limit,\n            \"BALANCE\": balance,\n            \"EXPIRATION_DATE\": expiration_date,\n            \"CARD_STATUS\": card_status\n        })\n    return pd.DataFrame(credit_cards)\n\ncredit_cards_df = generate_credit_cards(NUM_CREDIT_CARDS)\nsession.use_schema(\"RISKANALYSIS\")\nsession.write_pandas(credit_cards_df, \"CREDIT_CARDS\", auto_create_table=True)\n\nprint()",
   "execution_count": null
  },
  {
   "cell_type": "code",
   "id": "9e1bc4d9-def6-4a51-9cd3-269a819eef36",
   "metadata": {
    "language": "python",
    "name": "cell7",
    "collapsed": false
   },
   "outputs": [],
   "source": "# Generate Investments\ndef generate_investments(num_investments):\n    investments = []\n    for investment_id in range(1, num_investments + 1):\n        customer_id = random.randint(1, total_customers)\n        investment_type = random.choice(['Stock', 'Bond', 'Mutual Fund'])\n        investment_amount = round(random.uniform(1000, 100000), 2)\n        current_value = round(investment_amount * random.uniform(0.8, 1.5), 2)\n        investment_date = fake.date_between(start_date='-10y', end_date='today').strftime('%Y-%m-%d')\n        risk_level = random.choice(['Low', 'Medium', 'High'])\n        investments.append({\n            \"CUSTOMER_ID\": customer_id,\n            \"INVESTMENT_TYPE\": investment_type,\n            \"INVESTMENT_AMOUNT\": investment_amount,\n            \"CURRENT_VALUE\": current_value,\n            \"INVESTMENT_DATE\": investment_date,\n            \"RISK_LEVEL\": risk_level\n        })\n    return pd.DataFrame(investments)\n\ninvestments_df = generate_investments(NUM_INVESTMENTS)\nsession.use_schema(\"WEALTHMANAGEMENT\")\nsession.write_pandas(investments_df, \"INVESTMENTS\", auto_create_table=True)\n\nprint()",
   "execution_count": null
  },
  {
   "cell_type": "code",
   "id": "b45b1728-772c-457a-8136-77b27baec871",
   "metadata": {
    "language": "python",
    "name": "cell8",
    "collapsed": false
   },
   "outputs": [],
   "source": "\ntotal_trx = session.sql(f''' select count (distinct TRANSACTION_ID) T from COREBANKING.TRANSACTIONS; ''')\ntotal_trx = total_trx.toPandas()['T'][0]\n\n\n# Generate Fraud Data\ndef generate_fraud_data(num_frauds):\n    fraud_data = []\n    \n    for _ in range(num_frauds):\n        trx = random.randint(1, total_trx)\n        transaction_id = trx\n        fraud_type = random.choice(['Phishing', 'Identity Theft', 'Card Skimming', 'Account Takeover'])\n        detected_date = fake.date_between(start_date='-1y', end_date='today').strftime('%Y-%m-%d')\n        fraud_data.append({\n            \"TRANSACTION_ID\": transaction_id,\n            \"DETECTED_DATE\": detected_date,\n            \"FRAUD_TYPE\": fraud_type,\n            \"DESCRIPTION\": f\"Detected {fraud_type} on trx {trx}\"\n        })\n    \n    return pd.DataFrame(fraud_data)\n\nfraud_df = generate_fraud_data(NUM_FRAUDS)\nsession.use_schema(\"FRAUDDETECTION\")\nsession.write_pandas(fraud_df, \"TRANSACTION_FRAUD\", auto_create_table=True)\n\nprint()\n",
   "execution_count": null
  }
 ]
}