{
 "metadata": {
  "kernelspec": {
   "display_name": "Streamlit Notebook",
   "name": "streamlit"
  }
 },
 "nbformat_minor": 5,
 "nbformat": 4,
 "cells": [
  {
   "cell_type": "markdown",
   "id": "3a144f95-c841-4203-a9ec-230e54706856",
   "metadata": {
    "name": "cell1",
    "collapsed": false
   },
   "source": "# Importing more packages\nIn addition to pre-installed packages to get your notebook up and running, you can install packages from public sources that you have external access set up for. You can also use packages stored in a stage or a private repository.\n\n"
  },
  {
   "cell_type": "code",
   "id": "3775908f-ca36-4846-8f38-5adca39217f2",
   "metadata": {
    "language": "python",
    "name": "INSTALL",
    "collapsed": false,
    "codeCollapsed": false
   },
   "source": "!pip install transformers scipy ftfy accelerate",
   "execution_count": null,
   "outputs": []
  },
  {
   "cell_type": "code",
   "id": "9a05d188-c85c-4413-a790-90d8248fadc7",
   "metadata": {
    "language": "python",
    "name": "LineChart",
    "collapsed": false,
    "codeCollapsed": false
   },
   "outputs": [],
   "source": "import numpy as np\nimport pandas as pd\nimport matplotlib.pyplot as plt\nimport seaborn as sns\n\n# Generate some fake data\nnp.random.seed(42)\ndf = pd.DataFrame({\n    'Date': pd.date_range('2020-01-01', periods=100),\n    'Value': np.cumsum(np.random.randn(100) + 0.5)\n})\n\n# Set the style and context\nsns.set_style(\"darkgrid\")\nsns.set_context(\"talk\")\n\n# Create the plot\nplt.figure(figsize=(15, 7))\nax = plt.gca()\n\n# Set the background color\nax.set_facecolor('black')\nplt.gcf().set_facecolor('black')\n\n# Plot the line\nsns.lineplot(\n    data=df,\n    x='Date',\n    y='Value',\n    color='#00FFFF',  # Cyan color line\n    linewidth=2.5,\n    ax=ax\n)\n\n# Highlight max and min points\nmax_row = df.loc[df['Value'].idxmax()]\nmin_row = df.loc[df['Value'].idxmin()]\n\nplt.scatter(max_row['Date'], max_row['Value'], color='#7CFC00', s=100, zorder=5)\nplt.text(max_row['Date'], max_row['Value'], f\" Max Value: {max_row['Value']:.2f}\", verticalalignment='bottom', color='#7CFC00', fontsize=14)\n\nplt.scatter(min_row['Date'], min_row['Value'], color='#FF69B4', s=100, zorder=5)\nplt.text(min_row['Date'], min_row['Value'], f\" Min Value: {min_row['Value']:.2f}\", verticalalignment='top', color='#FF69B4', fontsize=14)\n\n# Customize the plot\nplt.title('Sample Line Chart with Generated Data', fontsize=24, color='white', pad=20)\nplt.xlabel('Date', fontsize=16, color='white', labelpad=15)\nplt.ylabel('Value', fontsize=16, color='white', labelpad=15)\nplt.xticks(rotation=45, color='white', fontsize=12)\nplt.yticks(color='white', fontsize=12)\n\n# Adjust gridlines\nax.grid(color='#444444', linestyle='--', linewidth=0.5)\n\n# Remove spines\nfor spine in ax.spines.values():\n    spine.set_visible(False)\n\n# Tight layout to prevent clipping\nplt.tight_layout()\n\n# Show the plot\nplt.show()\n",
   "execution_count": null
  },
  {
   "cell_type": "code",
   "id": "c9ed78c6-0562-46db-874e-4c84476dfc6f",
   "metadata": {
    "language": "python",
    "name": "BarChart",
    "collapsed": false,
    "codeCollapsed": false
   },
   "outputs": [],
   "source": "import numpy as np\nimport pandas as pd\nimport matplotlib.pyplot as plt\nimport seaborn as sns\n\n# Generate some fake data\nnp.random.seed(42)\ncategories = [f'Category {i}' for i in range(1, 11)]\nvalues = np.random.randint(10, 100, size=10)\n\ndf = pd.DataFrame({'Category': categories, 'Value': values})\n\n# Identify max and min values and their indices\nmax_value = df['Value'].max()\nmin_value = df['Value'].min()\nmax_index = df['Value'].idxmax()\nmin_index = df['Value'].idxmin()\n\n# Create a color mapping for each category\ndefault_color = '#1E90FF'  # DodgerBlue\ncolors = [default_color] * len(df)\ncolors[max_index] = '#7CFC00'  # LawnGreen for max value\ncolors[min_index] = '#FF69B4'  # HotPink for min value\n\n# Map categories to colors\ncolor_mapping = dict(zip(df['Category'], colors))\n\n# Set the style and context\nsns.set_style(\"darkgrid\")\nsns.set_context(\"talk\")\n\n# Create the plot\nplt.figure(figsize=(15, 7))\nax = plt.gca()\n\n# Set the background color\nax.set_facecolor('black')\nplt.gcf().set_facecolor('black')\n\n# Plot the bar chart with hue and custom palette\nbars = sns.barplot(\n    x='Category',\n    y='Value',\n    data=df,\n    hue='Category',\n    palette=color_mapping,\n    dodge=False,\n    ax=ax,\n    legend=False\n)\n\n# Annotate bars with values\nfor i, bar in enumerate(ax.patches):\n    ax.text(\n        bar.get_x() + bar.get_width() / 2,\n        bar.get_height() + 2,\n        f'{df[\"Value\"][i]}',\n        ha='center',\n        color='white',\n        fontsize=12\n    )\n\n# Customize the plot\nplt.title('Sample Bar Chart with Generated Data', fontsize=24, color='white', pad=20)\nplt.xlabel('Category', fontsize=16, color='white', labelpad=15)\nplt.ylabel('Value', fontsize=16, color='white', labelpad=15)\nplt.xticks(rotation=45, color='white', fontsize=12)\nplt.yticks(color='white', fontsize=12)\n\n# Adjust gridlines\nax.grid(False)\n\n# Remove spines\nfor spine in ax.spines.values():\n    spine.set_visible(False)\n\n# Tight layout to prevent clipping\nplt.tight_layout()\n\n# Show the plot\nplt.show()\n",
   "execution_count": null
  },
  {
   "cell_type": "code",
   "id": "46d04865-d17f-49a4-b453-06981b7b6898",
   "metadata": {
    "language": "python",
    "name": "cell3",
    "collapsed": false,
    "codeCollapsed": false
   },
   "outputs": [],
   "source": "import numpy as np\nimport matplotlib.pyplot as plt\n\n# Define the size of the image (pixels)\nwidth, height = 400, 400\n\n# Define the real and imaginary ranges of the plot\nre_start, re_end = -2.0, 1.0\nim_start, im_end = -1.5, 1.5\n\n# Maximum number of iterations\nmax_iter = 100\n\n# Create a grid of complex numbers (c = x + iy)\nreal = np.linspace(re_start, re_end, width)\nimag = np.linspace(im_start, im_end, height)\nreal, imag = np.meshgrid(real, imag)\nc = real + 1j * imag\n\n# Initialize z to zero\nz = np.zeros_like(c)\n\n# Initialize an array to hold the iteration counts\nmandelbrot_set = np.full(c.shape, max_iter, dtype=int)\n\n# Perform the iteration\nfor i in range(max_iter):\n    mask = np.abs(z) <= 2\n    z[mask] = z[mask] ** 2 + c[mask]\n    mandelbrot_set[mask & (np.abs(z) > 2)] = i\n\n# Plot the Mandelbrot set\nplt.figure(figsize=(10, 10))\n\n# Display the image\nplt.imshow(\n    mandelbrot_set.T,\n    extent=[re_start, re_end, im_start, im_end],\n    cmap='hot',\n    interpolation='bilinear',\n    origin='lower'\n)\n\n# Hide axis ticks and labels\nplt.xticks([])\nplt.yticks([])\n\n# Remove the spines (borders)\nfor spine in plt.gca().spines.values():\n    spine.set_visible(False)\n\n# Set the background color to black\nplt.gca().set_facecolor('black')\n\n# Add the title\nplt.title('Mandelbrot Set', fontsize=24, color='black', pad=20)\n\n# Adjust the layout\nplt.tight_layout()\n\n# Show the plot\nplt.show()\n",
   "execution_count": null
  },
  {
   "cell_type": "code",
   "id": "2e91e7ac-5aec-4577-82f6-f16634665b3c",
   "metadata": {
    "language": "python",
    "name": "INSTALL_YFIN_LIB",
    "collapsed": false,
    "codeCollapsed": false
   },
   "outputs": [],
   "source": "!pip install yfinance --upgrade --no-cache-dir\n",
   "execution_count": null
  },
  {
   "cell_type": "code",
   "id": "729cd9cb-b20d-48df-aeb1-402042f27102",
   "metadata": {
    "language": "python",
    "name": "CompanyInfo",
    "collapsed": false,
    "codeCollapsed": false
   },
   "outputs": [],
   "source": "import yfinance as yf\nms = yf.Ticker(\"MS\")\nms.info",
   "execution_count": null
  },
  {
   "cell_type": "code",
   "id": "69002741-1f53-41f2-a7e4-4bde67d87e7b",
   "metadata": {
    "language": "python",
    "name": "cell2",
    "collapsed": false,
    "codeCollapsed": false
   },
   "outputs": [],
   "source": "import yfinance as yf\nimport matplotlib.pyplot as plt\nimport seaborn as sns\nimport pandas as pd\nfrom datetime import datetime\n\n# Set the style\nsns.set_style('darkgrid')\nplt.style.use('dark_background')\n\n# Define the stock symbol and the date range\nticker_symbol = 'MS' \nstart_date = '2023-01-01'\nend_date = datetime.today().strftime('%Y-%m-%d')  # Set end date to today\n\n# Download historical data for the stock\ndf = yf.download(ticker_symbol, start=start_date, end=end_date)\n\n# Check if data is available\nif df.empty:\n    print(\"No data found for the specified date range and ticker symbol.\")\nelse:\n    # Create the plot\n    plt.figure(figsize=(14, 7))\n    plt.plot(df.index, df['Close'], color='#1E90FF', linewidth=2)\n\n    # Customize the plot\n    plt.title(f'{ticker_symbol} Stock Price', fontsize=24, color='white', pad=20)\n    plt.xlabel('Date', fontsize=16, color='white', labelpad=15)\n    plt.ylabel('Closing Price (USD)', fontsize=16, color='white', labelpad=15)\n    plt.xticks(rotation=45, color='white', fontsize=12)\n    plt.yticks(color='white', fontsize=12)\n    plt.grid(color='#444444', linestyle='--', linewidth=0.5)\n\n    # Highlight the highest and lowest closing prices\n    max_price = df['Close'].max()\n    min_price = df['Close'].min()\n    max_date = df['Close'].idxmax()\n    min_date = df['Close'].idxmin()\n\n    plt.scatter(max_date, max_price, color='#7CFC00', s=100, zorder=5)\n    plt.text(max_date, max_price, f' High: ${max_price:.2f}', color='#7CFC00', fontsize=12, verticalalignment='bottom')\n\n    plt.scatter(min_date, min_price, color='#FF69B4', s=100, zorder=5)\n    plt.text(min_date, min_price, f' Low: ${min_price:.2f}', color='#FF69B4', fontsize=12, verticalalignment='top')\n\n    # Remove spines\n    ax = plt.gca()\n    for spine in ax.spines.values():\n        spine.set_visible(False)\n\n    # Set background color\n    ax.set_facecolor('black')\n\n    # Tight layout to prevent clipping\n    plt.tight_layout()\n\n    # Show the plot\n    plt.show()\n",
   "execution_count": null
  }
 ]
}