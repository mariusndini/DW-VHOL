{
 "metadata": {
  "kernelspec": {
   "display_name": "Streamlit Notebook",
   "name": "streamlit"
  }
 },
 "nbformat_minor": 5,
 "nbformat": 4,
 "cells": [
  {
   "cell_type": "markdown",
   "id": "466d2158-df48-4ce5-83ff-5f5c94bdb727",
   "metadata": {
    "name": "doc",
    "collapsed": false
   },
   "source": "# ❄️ Setup\n\nEstablishing a Snowpark Session\n\nBefore you begin working with DataFrames, you need to establish a session with your Snowflake account.\n\n"
  },
  {
   "cell_type": "code",
   "id": "3775908f-ca36-4846-8f38-5adca39217f2",
   "metadata": {
    "language": "python",
    "name": "init"
   },
   "source": "# Import python packages\nimport streamlit as st\nimport pandas as pd\nfrom snowflake.snowpark.functions import col, count, sum, avg, when, max\n\n# We can also use Snowpark for our analyses!\nfrom snowflake.snowpark.context import get_active_session\nsession = get_active_session()\n\nprint(f\"role: {session.get_current_role()} | WH: {session.get_current_warehouse()} | DB.SCHEMA: {session.get_fully_qualified_current_schema()}\")\n",
   "execution_count": null,
   "outputs": []
  },
  {
   "cell_type": "markdown",
   "id": "fe54b37b-1ecf-4cd3-9cd6-23cf19d4868a",
   "metadata": {
    "name": "cell26",
    "collapsed": false
   },
   "source": "# Basic DataFrame Operations\n1. Creating DataFrames from Tables\n\nYou can create a DataFrame by referencing an existing table in your database.\n\n"
  },
  {
   "cell_type": "code",
   "id": "af7b8424-1f8b-4f4c-91ba-6005e6003650",
   "metadata": {
    "language": "python",
    "name": "setContext"
   },
   "outputs": [],
   "source": "# Create DataFrames from existing tables\ncustomers_df = session.table(\"COREBANKING.CUSTOMERS\")\naccounts_df = session.table(\"COREBANKING.ACCOUNTS\")\n\n# Display the first few rows of a DataFrame\ncustomers_df.show(5)\n",
   "execution_count": null
  },
  {
   "cell_type": "markdown",
   "id": "28ac24a0-ee95-4d39-8a70-c6c059815d9c",
   "metadata": {
    "name": "cell28",
    "collapsed": false
   },
   "source": "2. Selecting Columns\n\nYou can select specific columns using the select() method.\n\n"
  },
  {
   "cell_type": "code",
   "id": "01252e23-d0b4-4745-90d1-29ac8438b8d7",
   "metadata": {
    "language": "python",
    "name": "selectColumns"
   },
   "outputs": [],
   "source": "# Select specific columns\ncustomer_info_df = customers_df.select(\"CUSTOMER_ID\", \"FIRST_NAME\", \"LAST_NAME\", \"EMAIL\")\ncustomer_info_df.show(5)\n",
   "execution_count": null
  },
  {
   "cell_type": "markdown",
   "id": "e59f7a04-b49f-435f-b275-0aa4ffe776a9",
   "metadata": {
    "name": "cell30",
    "collapsed": false
   },
   "source": "3. Filtering Rows\n\nUse the filter() method to filter rows based on conditions.\n\n"
  },
  {
   "cell_type": "code",
   "id": "ed41632f-d5ce-4690-8d9f-b052adb24449",
   "metadata": {
    "language": "python",
    "name": "filterRows"
   },
   "outputs": [],
   "source": "# Filter customers who live in a specific state\ncustomers_in_california_df = customers_df.filter(col(\"STATE\") == \"Vermont\")\ncustomers_in_california_df.show(5)\n",
   "execution_count": null
  },
  {
   "cell_type": "markdown",
   "id": "71cd8db1-ced8-4bd4-9df7-b732fc47b113",
   "metadata": {
    "name": "cell33",
    "collapsed": false
   },
   "source": "4. Adding New Columns\n\nYou can add new columns to a DataFrame using the with_column() method.\n\n"
  },
  {
   "cell_type": "code",
   "id": "6902fdcf-bc6b-4498-b105-2409aa1636fc",
   "metadata": {
    "language": "python",
    "name": "addNewColumn"
   },
   "outputs": [],
   "source": "from snowflake.snowpark.functions import lit\n\n# Add a constant column indicating customer status\ncustomers_with_status_df = customers_df.with_column(\"STATUS\", lit(\"Hi, Im a new Column\"))\ncustomers_with_status_df.show(5)\n",
   "execution_count": null
  },
  {
   "cell_type": "markdown",
   "id": "6543598f-9f62-476a-9761-07a1de79b111",
   "metadata": {
    "name": "cell35",
    "collapsed": false
   },
   "source": "5. DataFrame Transformations\n\nJoin two DataFrames using the join() method."
  },
  {
   "cell_type": "code",
   "id": "882010fe-e50e-45ad-b6ee-f46daef33b2c",
   "metadata": {
    "language": "python",
    "name": "transformDataFrame"
   },
   "outputs": [],
   "source": "# Join customers with their accounts\ncustomers_accounts_df = customers_df.join(accounts_df, customers_df[\"CUSTOMER_ID\"] == accounts_df[\"CUSTOMER_ID\"])\ncustomers_accounts_df.show(5)",
   "execution_count": null
  },
  {
   "cell_type": "markdown",
   "id": "fd80c493-c502-4219-8f37-ec6f6b4f918e",
   "metadata": {
    "name": "cell39",
    "collapsed": false
   },
   "source": "6. Aggregations\n\nAggregate data in the DataFrame"
  },
  {
   "cell_type": "code",
   "id": "13b27aa5-0ca2-4753-81e1-cc1b91963aca",
   "metadata": {
    "language": "python",
    "name": "aggData"
   },
   "outputs": [],
   "source": "from snowflake.snowpark.functions import sum, avg\n\n# Aggregate account data to get total and average balances\naccount_summary_df = (\n    accounts_df.group_by(\"CUSTOMER_ID\")\n    .agg(\n        sum(\"BALANCE\").alias(\"TOTAL_BALANCE\"),\n        avg(\"BALANCE\").alias(\"AVG_BALANCE\")\n    )\n)\naccount_summary_df.show(5)\n",
   "execution_count": null
  },
  {
   "cell_type": "markdown",
   "id": "c920974b-f67a-4e37-b8c1-c905036465d9",
   "metadata": {
    "name": "cell3",
    "collapsed": false
   },
   "source": "# ❄️❄️ Data Processing Example (Multi-Step)\nThis Snowpark example demonstrates how to build complex data processing workflows in Snowflake, using multi-step data transformations and aggregations to derive meaningful insights. By properly structuring joins and leveraging Snowpark's processing capabilities, we can effectively analyze customer risk."
  },
  {
   "cell_type": "markdown",
   "id": "bde3febe-7f30-43ff-8de5-1cbb5a7db57b",
   "metadata": {
    "name": "cell6",
    "collapsed": false
   },
   "source": "# Set-Up Example"
  },
  {
   "cell_type": "markdown",
   "id": "4f229735-d425-44af-9ec5-1aad3e0415b7",
   "metadata": {
    "name": "cell11",
    "collapsed": false
   },
   "source": "## Scenario: Customer Segmentation and Risk Analysis\nIn this example, we'll identify high-risk customers by analyzing:\n\n1) Customer Demographics: Extract relevant customer information.\n2) Account and Balance Analysis: Assess account balances and transaction activity.\n3) Loan Analysis: Evaluate loan status and outstanding balances.\n4) Credit Card Usage: Examine credit card balances and credit utilization.\n5) Fraud Detection: Identify customers with fraud history.\n6) Risk Scoring: Calculate a risk score based on the above factors."
  },
  {
   "cell_type": "code",
   "id": "20c0b528-3d3a-4105-a2ca-113f0837e4ae",
   "metadata": {
    "language": "python",
    "name": "loadDataIntoDataFrames"
   },
   "outputs": [],
   "source": "# Load tables into Snowpark DataFrames\ncustomers_df = session.table(\"COREBANKING.CUSTOMERS\")\naccounts_df = session.table(\"COREBANKING.ACCOUNTS\")\ntransactions_df = session.table(\"COREBANKING.TRANSACTIONS\")\nfraud_df = session.table(\"FRAUDDETECTION.TRANSACTION_FRAUD\")\ncredit_cards_df = session.table(\"RISKANALYSIS.CREDIT_CARDS\")\nloans_df = session.table(\"RISKANALYSIS.LOANS\")\n",
   "execution_count": null
  },
  {
   "cell_type": "markdown",
   "id": "d3c6ee41-9827-4e9b-9b17-3bcb52ed51ee",
   "metadata": {
    "name": "cell13",
    "collapsed": false
   },
   "source": "### Step 1: Customer Demographics\nJoin the TRANSACTIONS table with the ACCOUNTS table to access CUSTOMER_ID and aggregate transaction data.\n\n"
  },
  {
   "cell_type": "code",
   "id": "0575859e-fd12-4267-8a31-81bc0ca84e7d",
   "metadata": {
    "language": "python",
    "name": "calcCustomerDemographics"
   },
   "outputs": [],
   "source": "# Join transactions with accounts to access CUSTOMER_ID\ntransactions_with_customers_df = (\n    transactions_df\n    .join(accounts_df, transactions_df[\"ACCOUNT_ID\"] == accounts_df[\"ACCOUNT_ID\"], \"inner\")\n)\n\n# Aggregate transaction data\ntransaction_agg_df = (\n    transactions_with_customers_df\n    .group_by(transactions_with_customers_df[\"CUSTOMER_ID\"])\n    .agg(\n        count(transactions_with_customers_df[\"TRANSACTION_ID\"]).alias(\"TOTAL_TRANSACTIONS\"),\n        sum(transactions_with_customers_df[\"TRANSACTION_AMOUNT\"]).alias(\"TOTAL_TRANSACTION_AMOUNT\"),\n        avg(transactions_with_customers_df[\"TRANSACTION_AMOUNT\"]).alias(\"AVG_TRANSACTION_AMOUNT\"),\n        max(transactions_with_customers_df[\"TRANSACTION_DATE\"]).alias(\"LAST_TRANSACTION_DATE\")\n    )\n)\n\ntransaction_agg_df.show()",
   "execution_count": null
  },
  {
   "cell_type": "markdown",
   "id": "39b08e28-7d1b-44f5-adf4-7e7c56910723",
   "metadata": {
    "name": "cell14",
    "collapsed": false
   },
   "source": "### step 2: Analyze Account Balances and Status\nAggregate accounts to derive balance and status information"
  },
  {
   "cell_type": "code",
   "id": "6309fd7e-5518-4162-9400-97016199bca5",
   "metadata": {
    "language": "python",
    "name": "analyzeBalances",
    "collapsed": false,
    "codeCollapsed": false
   },
   "outputs": [],
   "source": "# Account balance and status analysis\naccount_agg_df = (\n    accounts_df\n    .group_by(accounts_df[\"CUSTOMER_ID\"])\n    .agg(\n        sum(accounts_df[\"BALANCE\"]).alias(\"TOTAL_ACCOUNT_BALANCE\"),\n        avg(accounts_df[\"BALANCE\"]).alias(\"AVG_ACCOUNT_BALANCE\"),\n        count(when(accounts_df[\"ACCOUNT_STATUS\"] == \"Active\", 1)).alias(\"ACTIVE_ACCOUNTS\"),\n        count(when(accounts_df[\"ACCOUNT_STATUS\"] == \"Inactive\", 1)).alias(\"INACTIVE_ACCOUNTS\"),\n    )\n)\n\naccount_agg_df.show()",
   "execution_count": null
  },
  {
   "cell_type": "markdown",
   "id": "5073e2ee-1f8b-4826-b356-d1ec7172572b",
   "metadata": {
    "name": "cell17",
    "collapsed": false
   },
   "source": "### Step 3: Evaluate Loan Data\nAggregate loan data for each customer:\n\n"
  },
  {
   "cell_type": "code",
   "id": "ce047035-8f14-4509-ba79-2d08201795a8",
   "metadata": {
    "language": "python",
    "name": "evalLoanData"
   },
   "outputs": [],
   "source": "# Loan analysis\nloan_agg_df = (\n    loans_df\n    .group_by(loans_df[\"CUSTOMER_ID\"])\n    .agg(\n        sum(loans_df[\"LOAN_AMOUNT\"]).alias(\"TOTAL_LOAN_AMOUNT\"),\n        sum(loans_df[\"LOAN_BALANCE\"]).alias(\"OUTSTANDING_LOAN_BALANCE\"),\n        count(when(loans_df[\"LOAN_BALANCE\"] > 0, 1)).alias(\"ACTIVE_LOANS\"),\n        count(when(loans_df[\"LOAN_BALANCE\"] == 0, 1)).alias(\"PAID_OFF_LOANS\")\n    )\n)\n\nloan_agg_df.show()",
   "execution_count": null
  },
  {
   "cell_type": "markdown",
   "id": "20194d90-d171-4d58-bfcf-6e7dd60175fe",
   "metadata": {
    "name": "cell19",
    "collapsed": false
   },
   "source": "### Step 4: Assess Credit Card Utilization\nAggregate credit card data for each customer:\n\n"
  },
  {
   "cell_type": "code",
   "id": "d6983fbe-94f2-4a85-822a-269ecd3d3e30",
   "metadata": {
    "language": "python",
    "name": "evalCreditcardUtil"
   },
   "outputs": [],
   "source": "# Credit card usage analysis\ncredit_card_agg_df = (\n    credit_cards_df\n    .group_by(credit_cards_df[\"CUSTOMER_ID\"])\n    .agg(\n        sum(credit_cards_df[\"BALANCE\"]).alias(\"TOTAL_CREDIT_CARD_BALANCE\"),\n        sum(credit_cards_df[\"CREDIT_LIMIT\"]).alias(\"TOTAL_CREDIT_LIMIT\"),\n        avg(credit_cards_df[\"BALANCE\"] / credit_cards_df[\"CREDIT_LIMIT\"]).alias(\"AVG_CREDIT_UTILIZATION\"),\n        count(when(credit_cards_df[\"CARD_STATUS\"] == \"Active\", 1)).alias(\"ACTIVE_CARDS\")\n    )\n)\n\ncredit_card_agg_df.show()",
   "execution_count": null
  },
  {
   "cell_type": "markdown",
   "id": "65dabb23-4557-427b-94de-b7a8fd51f74b",
   "metadata": {
    "name": "cell21",
    "collapsed": false
   },
   "source": "### Step 5: Detect Fraud History\nIdentify customers with fraud incidents:\n\n"
  },
  {
   "cell_type": "code",
   "id": "91233493-609e-4eb6-a0d9-67b4c6663e0e",
   "metadata": {
    "language": "python",
    "name": "calcFraudHistory"
   },
   "outputs": [],
   "source": "# Fraud detection\nfraud_agg_df = (\n    fraud_df\n    .join(transactions_with_customers_df, fraud_df[\"TRANSACTION_ID\"] == transactions_with_customers_df[\"TRANSACTION_ID\"], \"inner\")\n    .group_by(transactions_with_customers_df[\"CUSTOMER_ID\"])\n    .agg(\n        count(fraud_df[\"FRAUD_ID\"]).alias(\"FRAUD_INCIDENTS\")\n    )\n)\n\n\nfraud_agg_df.show()",
   "execution_count": null
  },
  {
   "cell_type": "markdown",
   "id": "93a95fbc-25fc-4f08-9478-9f657dabbc28",
   "metadata": {
    "name": "cell23",
    "collapsed": false
   },
   "source": "### Step 6: Combine All Insights and Calculate Risk Scores\nCombine all data to calculate risk scores:\n\n"
  },
  {
   "cell_type": "code",
   "id": "606fd765-ff41-44fa-9b14-cec6488a3e3f",
   "metadata": {
    "language": "python",
    "name": "combineAll"
   },
   "outputs": [],
   "source": "# Combine all insights and calculate risk scores\ncustomer_risk_df = (\n    customers_df\n    .join(transaction_agg_df, customers_df[\"CUSTOMER_ID\"] == transaction_agg_df[\"CUSTOMER_ID\"], \"left_outer\")\n    .join(account_agg_df, customers_df[\"CUSTOMER_ID\"] == account_agg_df[\"CUSTOMER_ID\"], \"left_outer\")\n    .join(loan_agg_df, customers_df[\"CUSTOMER_ID\"] == loan_agg_df[\"CUSTOMER_ID\"], \"left_outer\")\n    .join(credit_card_agg_df, customers_df[\"CUSTOMER_ID\"] == credit_card_agg_df[\"CUSTOMER_ID\"], \"left_outer\")\n    .join(fraud_agg_df, customers_df[\"CUSTOMER_ID\"] == fraud_agg_df[\"CUSTOMER_ID\"], \"left_outer\")\n    .select(\n        customers_df[\"CUSTOMER_ID\"].alias(\"CUSTOMER_ID\"),\n        customers_df[\"FIRST_NAME\"],\n        customers_df[\"LAST_NAME\"],\n        account_agg_df[\"TOTAL_ACCOUNT_BALANCE\"],\n        account_agg_df[\"AVG_ACCOUNT_BALANCE\"],\n        transaction_agg_df[\"TOTAL_TRANSACTIONS\"],\n        transaction_agg_df[\"TOTAL_TRANSACTION_AMOUNT\"],\n        transaction_agg_df[\"AVG_TRANSACTION_AMOUNT\"],\n        loan_agg_df[\"OUTSTANDING_LOAN_BALANCE\"],\n        loan_agg_df[\"ACTIVE_LOANS\"],\n        credit_card_agg_df[\"TOTAL_CREDIT_CARD_BALANCE\"],\n        credit_card_agg_df[\"AVG_CREDIT_UTILIZATION\"],\n        fraud_agg_df[\"FRAUD_INCIDENTS\"],\n        # Calculate a simple risk score\n        (\n            (account_agg_df[\"AVG_ACCOUNT_BALANCE\"] < 1000).cast(\"int\") * 1 +\n            (credit_card_agg_df[\"AVG_CREDIT_UTILIZATION\"] > 0.5).cast(\"int\") * 1 +\n            (loan_agg_df[\"OUTSTANDING_LOAN_BALANCE\"] > 5000).cast(\"int\") * 1 +\n            (fraud_agg_df[\"FRAUD_INCIDENTS\"] > 0).cast(\"int\") * 1 +\n            (transaction_agg_df[\"AVG_TRANSACTION_AMOUNT\"] < 50).cast(\"int\") * 1\n        ).alias(\"RISK_SCORE\")\n    )\n    .order_by(col(\"RISK_SCORE\").desc())\n)\n\n# Show high-risk customers\ncustomer_risk_df.explain()\n",
   "execution_count": null
  },
  {
   "cell_type": "markdown",
   "id": "8b0f7700-1402-4c2f-a594-d7e6ddf1d814",
   "metadata": {
    "name": "cell16",
    "collapsed": false
   },
   "source": "# Save Results to Snowflake Table"
  },
  {
   "cell_type": "code",
   "id": "d8ace91b-7d67-4bf4-9a0b-4a190820480e",
   "metadata": {
    "language": "python",
    "name": "saveResultsTable",
    "collapsed": false,
    "codeCollapsed": false
   },
   "outputs": [],
   "source": "customer_risk_df.write.mode(\"overwrite\").save_as_table(\"PUBLIC.CUSTOMER_RISK_ANALYSIS\")\nprint(\"DataFrame successfully written to PUBLIC.CUSTOMER_RISK_ANALYSIS\")",
   "execution_count": null
  },
  {
   "cell_type": "markdown",
   "id": "ec654bda-c54c-4ba0-a879-ea8e4180342b",
   "metadata": {
    "name": "cell1",
    "collapsed": false
   },
   "source": "# StreamLit Examples"
  },
  {
   "cell_type": "code",
   "id": "0af08c20-dd15-4861-90cb-4a94fbca9395",
   "metadata": {
    "language": "python",
    "name": "StreamlitIntro"
   },
   "outputs": [],
   "source": "import streamlit as st\nimport pandas as pd\nimport numpy as np\n\nst.title('Streamlit Object Example')\n\ntitle = st.text_input(\"Say Hi\", \"\")\n\nif st.button(\"Echo\", type=\"primary\"):\n    st.write(title)\nelse:\n    st.write(\"\")",
   "execution_count": null
  },
  {
   "cell_type": "code",
   "id": "ee21f732-3292-4a2b-8264-8c1b378a46d8",
   "metadata": {
    "language": "python",
    "name": "StreamlitChart"
   },
   "outputs": [],
   "source": "import streamlit as st\nfrom snowflake.snowpark.functions import col, avg, sum\nimport pandas as pd\n\n\n\n# Query the table and perform aggregation\naggregation_df = (\n    session.table(\"PUBLIC.CUSTOMER_RISK_ANALYSIS\")\n    .group_by(\"ACTIVE_LOANS\")\n    .agg(\n        avg(\"RISK_SCORE\").alias(\"AVG_RISK_SCORE\"),\n        sum(\"TOTAL_ACCOUNT_BALANCE\").alias(\"TOTAL_ACCOUNT_BALANCE\")\n    )\n    .order_by(\"ACTIVE_LOANS\")\n)\n\n# Convert Snowpark DataFrame to Pandas DataFrame\ndf = aggregation_df.to_pandas()\n\n# Streamlit visualization code\nst.title(\"Aggregated Customer Risk Analysis\")\n\nst.write(\"### Average Risk Score and Total Account Balance by Number of Active Loans\")\nst.dataframe(df)\n\n# Create a bar chart for Average Risk Score by Active Loans\nst.bar_chart(df.set_index(\"ACTIVE_LOANS\")[\"AVG_RISK_SCORE\"])\n\n# Create a bar chart for Total Account Balance by Active Loans\nst.bar_chart(df.set_index(\"ACTIVE_LOANS\")[\"TOTAL_ACCOUNT_BALANCE\"])\n",
   "execution_count": null
  }
 ]
}